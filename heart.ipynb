{
 "cells": [
  {
   "cell_type": "code",
   "execution_count": 206,
   "metadata": {},
   "outputs": [
    {
     "data": {
      "text/html": [
       "<div>\n",
       "<style scoped>\n",
       "    .dataframe tbody tr th:only-of-type {\n",
       "        vertical-align: middle;\n",
       "    }\n",
       "\n",
       "    .dataframe tbody tr th {\n",
       "        vertical-align: top;\n",
       "    }\n",
       "\n",
       "    .dataframe thead th {\n",
       "        text-align: right;\n",
       "    }\n",
       "</style>\n",
       "<table border=\"1\" class=\"dataframe\">\n",
       "  <thead>\n",
       "    <tr style=\"text-align: right;\">\n",
       "      <th></th>\n",
       "      <th>Age</th>\n",
       "      <th>Sex</th>\n",
       "      <th>ChestPainType</th>\n",
       "      <th>RestingBP</th>\n",
       "      <th>Cholesterol</th>\n",
       "      <th>FastingBS</th>\n",
       "      <th>RestingECG</th>\n",
       "      <th>MaxHR</th>\n",
       "      <th>ExerciseAngina</th>\n",
       "      <th>Oldpeak</th>\n",
       "      <th>ST_Slope</th>\n",
       "      <th>HeartDisease</th>\n",
       "      <th>Zscore</th>\n",
       "    </tr>\n",
       "  </thead>\n",
       "  <tbody>\n",
       "    <tr>\n",
       "      <th>0</th>\n",
       "      <td>40</td>\n",
       "      <td>M</td>\n",
       "      <td>ATA</td>\n",
       "      <td>140</td>\n",
       "      <td>289</td>\n",
       "      <td>0</td>\n",
       "      <td>Normal</td>\n",
       "      <td>172</td>\n",
       "      <td>N</td>\n",
       "      <td>0.0</td>\n",
       "      <td>Up</td>\n",
       "      <td>0</td>\n",
       "      <td>0.824621</td>\n",
       "    </tr>\n",
       "    <tr>\n",
       "      <th>1</th>\n",
       "      <td>49</td>\n",
       "      <td>F</td>\n",
       "      <td>NAP</td>\n",
       "      <td>160</td>\n",
       "      <td>180</td>\n",
       "      <td>0</td>\n",
       "      <td>Normal</td>\n",
       "      <td>156</td>\n",
       "      <td>N</td>\n",
       "      <td>1.0</td>\n",
       "      <td>Flat</td>\n",
       "      <td>1</td>\n",
       "      <td>-0.171867</td>\n",
       "    </tr>\n",
       "    <tr>\n",
       "      <th>2</th>\n",
       "      <td>37</td>\n",
       "      <td>M</td>\n",
       "      <td>ATA</td>\n",
       "      <td>130</td>\n",
       "      <td>283</td>\n",
       "      <td>0</td>\n",
       "      <td>ST</td>\n",
       "      <td>98</td>\n",
       "      <td>N</td>\n",
       "      <td>0.0</td>\n",
       "      <td>Up</td>\n",
       "      <td>0</td>\n",
       "      <td>0.769768</td>\n",
       "    </tr>\n",
       "    <tr>\n",
       "      <th>3</th>\n",
       "      <td>48</td>\n",
       "      <td>F</td>\n",
       "      <td>ASY</td>\n",
       "      <td>138</td>\n",
       "      <td>214</td>\n",
       "      <td>0</td>\n",
       "      <td>Normal</td>\n",
       "      <td>108</td>\n",
       "      <td>Y</td>\n",
       "      <td>1.5</td>\n",
       "      <td>Flat</td>\n",
       "      <td>1</td>\n",
       "      <td>0.138964</td>\n",
       "    </tr>\n",
       "    <tr>\n",
       "      <th>4</th>\n",
       "      <td>54</td>\n",
       "      <td>M</td>\n",
       "      <td>NAP</td>\n",
       "      <td>150</td>\n",
       "      <td>195</td>\n",
       "      <td>0</td>\n",
       "      <td>Normal</td>\n",
       "      <td>122</td>\n",
       "      <td>N</td>\n",
       "      <td>0.0</td>\n",
       "      <td>Up</td>\n",
       "      <td>0</td>\n",
       "      <td>-0.034736</td>\n",
       "    </tr>\n",
       "    <tr>\n",
       "      <th>...</th>\n",
       "      <td>...</td>\n",
       "      <td>...</td>\n",
       "      <td>...</td>\n",
       "      <td>...</td>\n",
       "      <td>...</td>\n",
       "      <td>...</td>\n",
       "      <td>...</td>\n",
       "      <td>...</td>\n",
       "      <td>...</td>\n",
       "      <td>...</td>\n",
       "      <td>...</td>\n",
       "      <td>...</td>\n",
       "      <td>...</td>\n",
       "    </tr>\n",
       "    <tr>\n",
       "      <th>913</th>\n",
       "      <td>45</td>\n",
       "      <td>M</td>\n",
       "      <td>TA</td>\n",
       "      <td>110</td>\n",
       "      <td>264</td>\n",
       "      <td>0</td>\n",
       "      <td>Normal</td>\n",
       "      <td>132</td>\n",
       "      <td>N</td>\n",
       "      <td>1.2</td>\n",
       "      <td>Flat</td>\n",
       "      <td>1</td>\n",
       "      <td>0.596068</td>\n",
       "    </tr>\n",
       "    <tr>\n",
       "      <th>914</th>\n",
       "      <td>68</td>\n",
       "      <td>M</td>\n",
       "      <td>ASY</td>\n",
       "      <td>144</td>\n",
       "      <td>193</td>\n",
       "      <td>1</td>\n",
       "      <td>Normal</td>\n",
       "      <td>141</td>\n",
       "      <td>N</td>\n",
       "      <td>3.4</td>\n",
       "      <td>Flat</td>\n",
       "      <td>1</td>\n",
       "      <td>-0.053020</td>\n",
       "    </tr>\n",
       "    <tr>\n",
       "      <th>915</th>\n",
       "      <td>57</td>\n",
       "      <td>M</td>\n",
       "      <td>ASY</td>\n",
       "      <td>130</td>\n",
       "      <td>131</td>\n",
       "      <td>0</td>\n",
       "      <td>Normal</td>\n",
       "      <td>115</td>\n",
       "      <td>Y</td>\n",
       "      <td>1.2</td>\n",
       "      <td>Flat</td>\n",
       "      <td>1</td>\n",
       "      <td>-0.619830</td>\n",
       "    </tr>\n",
       "    <tr>\n",
       "      <th>916</th>\n",
       "      <td>57</td>\n",
       "      <td>F</td>\n",
       "      <td>ATA</td>\n",
       "      <td>130</td>\n",
       "      <td>236</td>\n",
       "      <td>0</td>\n",
       "      <td>LVH</td>\n",
       "      <td>174</td>\n",
       "      <td>N</td>\n",
       "      <td>0.0</td>\n",
       "      <td>Flat</td>\n",
       "      <td>1</td>\n",
       "      <td>0.340090</td>\n",
       "    </tr>\n",
       "    <tr>\n",
       "      <th>917</th>\n",
       "      <td>38</td>\n",
       "      <td>M</td>\n",
       "      <td>NAP</td>\n",
       "      <td>138</td>\n",
       "      <td>175</td>\n",
       "      <td>0</td>\n",
       "      <td>Normal</td>\n",
       "      <td>173</td>\n",
       "      <td>N</td>\n",
       "      <td>0.0</td>\n",
       "      <td>Up</td>\n",
       "      <td>0</td>\n",
       "      <td>-0.217578</td>\n",
       "    </tr>\n",
       "  </tbody>\n",
       "</table>\n",
       "<p>918 rows × 13 columns</p>\n",
       "</div>"
      ],
      "text/plain": [
       "     Age Sex ChestPainType  RestingBP  Cholesterol  FastingBS RestingECG  \\\n",
       "0     40   M           ATA        140          289          0     Normal   \n",
       "1     49   F           NAP        160          180          0     Normal   \n",
       "2     37   M           ATA        130          283          0         ST   \n",
       "3     48   F           ASY        138          214          0     Normal   \n",
       "4     54   M           NAP        150          195          0     Normal   \n",
       "..   ...  ..           ...        ...          ...        ...        ...   \n",
       "913   45   M            TA        110          264          0     Normal   \n",
       "914   68   M           ASY        144          193          1     Normal   \n",
       "915   57   M           ASY        130          131          0     Normal   \n",
       "916   57   F           ATA        130          236          0        LVH   \n",
       "917   38   M           NAP        138          175          0     Normal   \n",
       "\n",
       "     MaxHR ExerciseAngina  Oldpeak ST_Slope  HeartDisease    Zscore  \n",
       "0      172              N      0.0       Up             0  0.824621  \n",
       "1      156              N      1.0     Flat             1 -0.171867  \n",
       "2       98              N      0.0       Up             0  0.769768  \n",
       "3      108              Y      1.5     Flat             1  0.138964  \n",
       "4      122              N      0.0       Up             0 -0.034736  \n",
       "..     ...            ...      ...      ...           ...       ...  \n",
       "913    132              N      1.2     Flat             1  0.596068  \n",
       "914    141              N      3.4     Flat             1 -0.053020  \n",
       "915    115              Y      1.2     Flat             1 -0.619830  \n",
       "916    174              N      0.0     Flat             1  0.340090  \n",
       "917    173              N      0.0       Up             0 -0.217578  \n",
       "\n",
       "[918 rows x 13 columns]"
      ]
     },
     "execution_count": 206,
     "metadata": {},
     "output_type": "execute_result"
    }
   ],
   "source": [
    "import pandas as pd\n",
    "pd.options.display.max_rows=100\n",
    "df_out=pd.read_csv(\"heart.csv\")\n",
    "df_out.isnull().sum()\n",
    "df_out.head()\n",
    "df_out[\"Zscore\"]=(df_out.Cholesterol-df_out[\"Cholesterol\"].mean())/df_out[\"Cholesterol\"].std()\n",
    "df_out.head()\n",
    "df_out=df_out[(df_out[\"Zscore\"]<3) | (df_out[\"Zscore\"]>-3)]\n",
    "df_out\n"
   ]
  },
  {
   "cell_type": "code",
   "execution_count": 207,
   "metadata": {},
   "outputs": [
    {
     "data": {
      "text/plain": [
       "Index(['Age', 'Sex', 'RestingBP', 'Cholesterol', 'FastingBS', 'MaxHR',\n",
       "       'ExerciseAngina', 'Oldpeak', 'HeartDisease', 'Zscore',\n",
       "       'ChestPainType_ASY', 'ChestPainType_ATA', 'ChestPainType_NAP',\n",
       "       'ChestPainType_TA', 'RestingECG_LVH', 'RestingECG_Normal',\n",
       "       'RestingECG_ST', 'ST_Slope_Down', 'ST_Slope_Flat', 'ST_Slope_Up'],\n",
       "      dtype='object')"
      ]
     },
     "execution_count": 207,
     "metadata": {},
     "output_type": "execute_result"
    }
   ],
   "source": [
    "from sklearn.preprocessing import LabelEncoder,OneHotEncoder\n",
    "encoder=LabelEncoder()\n",
    "df_out[\"Sex\"]=encoder.fit_transform(df_out.Sex)\n",
    "df_out[\"ExerciseAngina\"]=encoder.fit_transform(df_out.ExerciseAngina)\n",
    "# df_out[\"ChestPainType\"]=encoder.fit_transform(df_out.ChestPainType)\n",
    "# df_out[\"RestingECG\"]=encoder.fit_transform(df_out.RestingECG)\n",
    "encoder1=OneHotEncoder(sparse_output=False)\n",
    "ct=[\"ChestPainType\",\"RestingECG\",\"ST_Slope\"]\n",
    "df1=encoder1.fit_transform(df_out[ct])\n",
    "df2=pd.DataFrame(df1,columns=encoder1.get_feature_names_out(ct))\n",
    "df_out.drop(ct,axis=1,inplace=True)\n",
    "df3=pd.concat([df_out,df2],axis=1)\n",
    "# df_out.drop([\"ChestPainType\",\"ST_Slope\",\"RestingECG\"],axis=1)\n",
    "# df_out\n",
    "df_out\n",
    "df1\n",
    "df2\n",
    "df3.columns\n",
    "\n",
    "\n",
    "\n"
   ]
  },
  {
   "cell_type": "code",
   "execution_count": 208,
   "metadata": {},
   "outputs": [
    {
     "data": {
      "text/plain": [
       "(918, 16)"
      ]
     },
     "execution_count": 208,
     "metadata": {},
     "output_type": "execute_result"
    }
   ],
   "source": [
    "# df3.drop(\"Zscore\",axis=1,inplace=True)\n",
    "x=df3.drop([\"HeartDisease\",\"ChestPainType_ASY\",\"RestingECG_LVH\",\"ST_Slope_Down\"],axis=1)\n",
    "y=df3[\"HeartDisease\"]\n",
    "x.shape"
   ]
  },
  {
   "cell_type": "code",
   "execution_count": 209,
   "metadata": {},
   "outputs": [
    {
     "data": {
      "text/plain": [
       "array([[-1.4331398 ,  0.51595242,  0.41090889, ..., -0.49044933,\n",
       "        -1.00218103,  1.15067399],\n",
       "       [-0.47848359, -1.93816322,  1.49175234, ..., -0.49044933,\n",
       "         0.99782372, -0.86905588],\n",
       "       [-1.75135854,  0.51595242, -0.12951283, ...,  2.03894663,\n",
       "        -1.00218103,  1.15067399],\n",
       "       ...,\n",
       "       [ 0.37009972,  0.51595242, -0.12951283, ..., -0.49044933,\n",
       "         0.99782372, -0.86905588],\n",
       "       [ 0.37009972, -1.93816322, -0.12951283, ..., -0.49044933,\n",
       "         0.99782372, -0.86905588],\n",
       "       [-1.64528563,  0.51595242,  0.30282455, ..., -0.49044933,\n",
       "        -1.00218103,  1.15067399]])"
      ]
     },
     "execution_count": 209,
     "metadata": {},
     "output_type": "execute_result"
    }
   ],
   "source": [
    "from sklearn.preprocessing import StandardScaler\n",
    "scaler=StandardScaler()\n",
    "arr=scaler.fit_transform(x)\n",
    "arr"
   ]
  },
  {
   "cell_type": "code",
   "execution_count": 210,
   "metadata": {},
   "outputs": [],
   "source": [
    "from sklearn.model_selection import train_test_split\n",
    "x_train,y_train,x_val,y_val=train_test_split(arr,y,test_size=0.2,random_state=42)"
   ]
  },
  {
   "cell_type": "code",
   "execution_count": 215,
   "metadata": {},
   "outputs": [
    {
     "name": "stdout",
     "output_type": "stream",
     "text": [
      "1.0\n"
     ]
    }
   ],
   "source": [
    "from sklearn.linear_model import LogisticRegression\n",
    "from sklearn.svm import SVC\n",
    "from sklearn.ensemble import RandomForestClassifier\n",
    "model=LogisticRegression()\n",
    "model.fit(x_train,x_val)\n",
    "y_predict=model.predict(y_train)\n",
    "model1=SVC()\n",
    "model1.fit(x_train,x_val)\n",
    "y1_predict=model1.predict(y_train)\n",
    "y_predict\n",
    "\n",
    "model2=RandomForestClassifier()\n",
    "model2.fit(x_train,x_val)\n",
    "y2_predict=model2.predict(y_train)\n",
    "print(model2.score(x_train,x_val))\n",
    "\n",
    "\n"
   ]
  },
  {
   "cell_type": "code",
   "execution_count": 198,
   "metadata": {},
   "outputs": [
    {
     "name": "stdout",
     "output_type": "stream",
     "text": [
      "0.8719346049046321\n",
      "0.9100817438692098\n"
     ]
    }
   ],
   "source": [
    "from sklearn.metrics import accuracy_score\n",
    "# result=accuracy_score(y_val,y_predict)\n",
    "# result1=accuracy_score(y_val,y1_predict)\n",
    "# print(result)\n",
    "print(model.score(x_train,x_val))\n",
    "# result1\n",
    "print(model1.score(x_train,x_val))"
   ]
  },
  {
   "cell_type": "code",
   "execution_count": 199,
   "metadata": {},
   "outputs": [
    {
     "name": "stdout",
     "output_type": "stream",
     "text": [
      "[[ 92.3149887   29.44568058]\n",
      " [-17.1445248   13.73603475]\n",
      " [ 81.91034202 -38.22349875]\n",
      " ...\n",
      " [-69.00655181 -17.3346223 ]\n",
      " [ 39.20822335  33.59196558]\n",
      " [-21.43866668  37.21661282]]\n"
     ]
    }
   ],
   "source": [
    "from sklearn.decomposition import PCA\n",
    "pca=PCA(0.95)\n",
    "x_pca=pca.fit_transform(x)\n",
    "pca.explained_variance_ratio_\n",
    "# pca.n_components_\n",
    "print(x_pca)"
   ]
  },
  {
   "cell_type": "code",
   "execution_count": 200,
   "metadata": {},
   "outputs": [
    {
     "name": "stdout",
     "output_type": "stream",
     "text": [
      "[[  44.31023378   57.34448909]\n",
      " [  12.66795026   42.3896619 ]\n",
      " [  13.77321018  -16.54589119]\n",
      " ...\n",
      " [  54.42058574    3.4783204 ]\n",
      " [-199.2441824   -13.11422991]\n",
      " [ 192.87783616  -18.51539034]]\n"
     ]
    }
   ],
   "source": [
    "x_pca\n",
    "x_train,y_train,x_val,y_val=train_test_split(x_pca,y,test_size=0.2,random_state=42)\n",
    "print(x_train)"
   ]
  },
  {
   "cell_type": "code",
   "execution_count": 204,
   "metadata": {},
   "outputs": [
    {
     "name": "stdout",
     "output_type": "stream",
     "text": [
      "0.6989100817438693\n",
      "0.715258855585831\n",
      "1.0\n"
     ]
    }
   ],
   "source": [
    "models={\n",
    "    \"LogisticRegression\":LogisticRegression(max_iter=1000),\n",
    "    \"SVC\":SVC(),\n",
    "    \"randomforest\":RandomForestClassifier()\n",
    "}\n",
    "for model in models.values():\n",
    "    # print(x_train)\n",
    "    model.fit(x_train,x_val)\n",
    "    model.predict(y_train)\n",
    "    print(model.score(x_train,x_val))\n",
    "  "
   ]
  },
  {
   "cell_type": "code",
   "execution_count": 203,
   "metadata": {},
   "outputs": [
    {
     "data": {
      "text/plain": [
       "0.715258855585831"
      ]
     },
     "execution_count": 203,
     "metadata": {},
     "output_type": "execute_result"
    }
   ],
   "source": [
    "model1=SVC()\n",
    "model1.fit(x_train,x_val)\n",
    "y_predict=model1.predict(y_train)\n",
    "model1.score(x_train,x_val)\n"
   ]
  }
 ],
 "metadata": {
  "kernelspec": {
   "display_name": "venv",
   "language": "python",
   "name": "python3"
  },
  "language_info": {
   "codemirror_mode": {
    "name": "ipython",
    "version": 3
   },
   "file_extension": ".py",
   "mimetype": "text/x-python",
   "name": "python",
   "nbconvert_exporter": "python",
   "pygments_lexer": "ipython3",
   "version": "3.10.0"
  }
 },
 "nbformat": 4,
 "nbformat_minor": 2
}
